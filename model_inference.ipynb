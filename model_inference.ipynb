{
 "cells": [
  {
   "cell_type": "code",
   "execution_count": null,
   "id": "f1c6d740",
   "metadata": {},
   "outputs": [],
   "source": [
    "import mlflow\n",
    "import pandas as pd\n",
    "import dagshub\n",
    "\n",
    "dagshub.init(repo_owner='gnada22', repo_name='ml_assignment_1', mlflow=True)\n",
    "\n",
    "model = mlflow.sklearn.load_model(\"runs:/b0e813fa38ea469b93e7b168bcea4343/model\")\n",
    "\n",
    "test_df = pd.read_csv(\"data/test.csv\")\n",
    "test_ids = test_df[\"Id\"]\n",
    "test_df.drop(columns=[\"Id\"], inplace=True)\n",
    "\n",
    "predictions = model.predict(test_df)\n",
    "\n",
    "submission = pd.DataFrame({\n",
    "    \"Id\": test_ids,\n",
    "    \"SalePrice\": predictions\n",
    "})\n",
    "submission.to_csv(\"../submission.csv\", index=False)\n"
   ]
  }
 ],
 "metadata": {
  "kernelspec": {
   "display_name": ".venv",
   "language": "python",
   "name": "python3"
  },
  "language_info": {
   "codemirror_mode": {
    "name": "ipython",
    "version": 3
   },
   "file_extension": ".py",
   "mimetype": "text/x-python",
   "name": "python",
   "nbconvert_exporter": "python",
   "pygments_lexer": "ipython3",
   "version": "3.12.9"
  }
 },
 "nbformat": 4,
 "nbformat_minor": 5
}
